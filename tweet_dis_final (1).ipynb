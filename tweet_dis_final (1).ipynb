{
 "cells": [
  {
   "cell_type": "markdown",
   "id": "3ed2fb15-4953-48a1-a726-ad5d005d3985",
   "metadata": {},
   "source": [
    "# 1. Importing Libraries and Resources"
   ]
  },
  {
   "cell_type": "code",
   "execution_count": 7,
   "id": "542be439-1ec1-4403-a2d6-64f961d79049",
   "metadata": {},
   "outputs": [
    {
     "name": "stderr",
     "output_type": "stream",
     "text": [
      "[nltk_data] Downloading package punkt to\n",
      "[nltk_data]     C:\\Users\\DEll\\AppData\\Roaming\\nltk_data...\n",
      "[nltk_data]   Package punkt is already up-to-date!\n",
      "[nltk_data] Downloading package punkt_tab to\n",
      "[nltk_data]     C:\\Users\\DEll\\AppData\\Roaming\\nltk_data...\n",
      "[nltk_data]   Package punkt_tab is already up-to-date!\n",
      "[nltk_data] Downloading package stopwords to\n",
      "[nltk_data]     C:\\Users\\DEll\\AppData\\Roaming\\nltk_data...\n",
      "[nltk_data]   Package stopwords is already up-to-date!\n",
      "[nltk_data] Downloading package wordnet to /content/nltk_data/...\n",
      "[nltk_data]   Package wordnet is already up-to-date!\n"
     ]
    },
    {
     "data": {
      "text/plain": [
       "<nltk.tokenize.punkt.PunktTokenizer at 0x21a0d7ddd90>"
      ]
     },
     "execution_count": 7,
     "metadata": {},
     "output_type": "execute_result"
    }
   ],
   "source": [
    "import pandas as pd\n",
    "import nltk\n",
    "import re\n",
    "import numpy as np\n",
    "from nltk.corpus import stopwords\n",
    "from nltk.stem import WordNetLemmatizer\n",
    "from gensim.models import Word2Vec\n",
    "from sklearn.model_selection import train_test_split, GridSearchCV\n",
    "from sklearn.ensemble import RandomForestClassifier\n",
    "from sklearn.metrics import accuracy_score, precision_score, recall_score, f1_score\n",
    "from sklearn.impute import SimpleImputer  # For handling missing values\n",
    "from imblearn.over_sampling import SMOTE  # For handling class imbalance\n",
    "\n",
    "# Download necessary NLTK resources\n",
    "nltk.download('punkt')\n",
    "nltk.download('punkt_tab')\n",
    "nltk.download('stopwords')\n",
    "nltk.download('wordnet', download_dir='/content/nltk_data/')\n",
    "nltk.data.load('tokenizers/punkt/english.pickle')"
   ]
  },
  {
   "cell_type": "markdown",
   "id": "78d47029-e084-4221-8d01-515f77f826cf",
   "metadata": {},
   "source": [
    "# 2.Data Loading and Preprocessing"
   ]
  },
  {
   "cell_type": "code",
   "execution_count": 8,
   "id": "b8b4c2d3-3eb2-449c-a2ce-c525b09315be",
   "metadata": {},
   "outputs": [],
   "source": [
    "# 1. Data Loading and Preprocessing\n",
    "df = pd.read_csv(r\"C:\\Users\\DEll\\Documents\\Ml_Projects\\tweet_dis_nlp\\train.csv\")\n",
    "\n",
    "# Handling missing values with imputation\n",
    "imputer = SimpleImputer(strategy='most_frequent')  # Replace with your preferred strategy\n",
    "df[['keyword', 'location']] = imputer.fit_transform(df[['keyword', 'location']])\n",
    "\n",
    "stop_words = set(stopwords.words('english'))\n",
    "lemmatizer = WordNetLemmatizer()\n",
    "\n",
    "def preprocess_text(text):\n",
    "    if isinstance(text, str):\n",
    "        text = re.sub(r'[^a-zA-Z\\s]', '', text)  # Remove non-alphanumeric characters\n",
    "        text = text.lower()\n",
    "        tokens = nltk.word_tokenize(text)\n",
    "        tokens = [lemmatizer.lemmatize(token) for token in tokens if token not in stop_words]  # Lemmatization\n",
    "        return tokens\n",
    "    else:\n",
    "        return []\n",
    "\n",
    "df['processed_text'] = df['text'].apply(preprocess_text)"
   ]
  },
  {
   "cell_type": "markdown",
   "id": "5bfb50f6-6d38-471f-a8ed-48cf418c4251",
   "metadata": {},
   "source": [
    "# 3.Word2Vec Embedding with Hyperparameter Tuning"
   ]
  },
  {
   "cell_type": "code",
   "execution_count": 9,
   "id": "241e6796-a317-4d44-9418-8111b7d79bcb",
   "metadata": {},
   "outputs": [],
   "source": [
    "# 2. Word2Vec Embedding with Hyperparameter Tuning\n",
    "corpus = df['processed_text'].tolist()\n",
    "\n",
    "# Hyperparameter tuning for Word2Vec (example)\n",
    "word2vec_params = {\n",
    "    'vector_size': [100, 200, 300],\n",
    "    'window': [5, 7, 9],\n",
    "    'min_count': [1, 3, 5]\n",
    "}\n",
    "\n",
    "# Use GridSearchCV to find the best hyperparameters for Word2Vec\n",
    "# ... (Code for GridSearchCV with Word2Vec) ...\n",
    "\n",
    "# After tuning, create the Word2Vec model with the best parameters\n",
    "model = Word2Vec(corpus, vector_size=200, window=7, min_count=3, workers=4, sg=1)  # Replace with best parameters"
   ]
  },
  {
   "cell_type": "markdown",
   "id": "8c37a2b1-89c6-4458-9727-8be03665382f",
   "metadata": {},
   "source": [
    "# 4.Feature Extraction"
   ]
  },
  {
   "cell_type": "code",
   "execution_count": 10,
   "id": "9b4f3027-a72e-4a40-b519-e1123b763a35",
   "metadata": {},
   "outputs": [],
   "source": [
    "# 3. Feature Extraction\n",
    "def get_document_vector(tokens, model):\n",
    "    vectors = [model.wv[token] for token in tokens if token in model.wv]\n",
    "    if vectors:\n",
    "        return np.mean(vectors, axis=0)\n",
    "    else:\n",
    "        return np.zeros(model.vector_size)\n",
    "\n",
    "df['document_vector'] = df['processed_text'].apply(lambda tokens: get_document_vector(tokens, model))"
   ]
  },
  {
   "cell_type": "markdown",
   "id": "f82744ac-fc0b-4f0f-a509-9ae2e7864f9c",
   "metadata": {},
   "source": [
    "# 5.Model Training and Evaluation"
   ]
  },
  {
   "cell_type": "code",
   "execution_count": 11,
   "id": "c65e5f17-95da-4c75-bfc1-ce0e6aefd16e",
   "metadata": {},
   "outputs": [
    {
     "name": "stdout",
     "output_type": "stream",
     "text": [
      "Accuracy: 0.7737478411053541\n",
      "Precision: 0.8099489795918368\n",
      "Recall: 0.7224118316268487\n",
      "F1-score: 0.7636800962116657\n"
     ]
    }
   ],
   "source": [
    "# 4. Model Training and Evaluation\n",
    "X = np.array(df['document_vector'].tolist())\n",
    "y = df['target']\n",
    "\n",
    "# Addressing class imbalance with SMOTE\n",
    "smote = SMOTE(random_state=42)\n",
    "X_resampled, y_resampled = smote.fit_resample(X, y)\n",
    "\n",
    "X_train, X_test, y_train, y_test = train_test_split(X_resampled, y_resampled, test_size=0.2, random_state=42)\n",
    "\n",
    "# Hyperparameter tuning for RandomForestClassifier (example)\n",
    "rf_params = {\n",
    "    'n_estimators': [100, 200, 300],\n",
    "    'max_depth': [None, 5, 10]\n",
    "}\n",
    "\n",
    "# Use GridSearchCV to find the best hyperparameters for RandomForestClassifier\n",
    "# ... (Code for GridSearchCV with RandomForestClassifier) ...\n",
    "\n",
    "# After tuning, create the RandomForestClassifier model with the best parameters\n",
    "classifier = RandomForestClassifier(n_estimators=100, random_state=42)  # Replace with best parameters\n",
    "classifier.fit(X_train, y_train)\n",
    "\n",
    "y_pred = classifier.predict(X_test)\n",
    "\n",
    "# Evaluate performance with multiple metrics\n",
    "accuracy = accuracy_score(y_test, y_pred)\n",
    "precision = precision_score(y_test, y_pred)\n",
    "recall = recall_score(y_test, y_pred)\n",
    "f1 = f1_score(y_test, y_pred)\n",
    "\n",
    "print(f\"Accuracy: {accuracy}\")\n",
    "print(f\"Precision: {precision}\")\n",
    "print(f\"Recall: {recall}\")\n",
    "print(f\"F1-score: {f1}\")"
   ]
  },
  {
   "cell_type": "markdown",
   "id": "db16a175-44ae-49b6-948a-7e8f2db28c0c",
   "metadata": {},
   "source": [
    "# 6.Example Prediction"
   ]
  },
  {
   "cell_type": "code",
   "execution_count": 12,
   "id": "bd2fa528-2b3d-482f-9b6d-8dced74e7efa",
   "metadata": {},
   "outputs": [
    {
     "name": "stdout",
     "output_type": "stream",
     "text": [
      "Tweet: 'There's a huge fire near my house, and people are evacuating!' is predicted as a real disaster.\n"
     ]
    }
   ],
   "source": [
    "# Example new tweet for prediction:\n",
    "new_tweet = \"There's a huge fire near my house, and people are evacuating!\"\n",
    "\n",
    "# Preprocess the new tweet:\n",
    "processed_tweet = preprocess_text(new_tweet)\n",
    "tweet_vector = get_document_vector(processed_tweet, model)\n",
    "\n",
    "# Make the prediction:\n",
    "prediction = classifier.predict([tweet_vector])[0]  # Get the prediction (0 or 1)\n",
    "\n",
    "# Print the prediction:\n",
    "if prediction == 1:\n",
    "    print(f\"Tweet: '{new_tweet}' is predicted as a real disaster.\")\n",
    "else:\n",
    "    print(f\"Tweet: '{new_tweet}' is predicted as a fake disaster.\")"
   ]
  }
 ],
 "metadata": {
  "kernelspec": {
   "display_name": "Python 3 (ipykernel)",
   "language": "python",
   "name": "python3"
  },
  "language_info": {
   "codemirror_mode": {
    "name": "ipython",
    "version": 3
   },
   "file_extension": ".py",
   "mimetype": "text/x-python",
   "name": "python",
   "nbconvert_exporter": "python",
   "pygments_lexer": "ipython3",
   "version": "3.12.4"
  }
 },
 "nbformat": 4,
 "nbformat_minor": 5
}
